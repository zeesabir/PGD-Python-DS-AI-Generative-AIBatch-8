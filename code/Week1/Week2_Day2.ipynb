{
 "cells": [
  {
   "cell_type": "markdown",
   "id": "8e7507ff",
   "metadata": {},
   "source": [
    "# Assignment operators (=,+=,-=,*=,/=,**)"
   ]
  },
  {
   "cell_type": "code",
   "execution_count": 9,
   "id": "45328a3a",
   "metadata": {},
   "outputs": [],
   "source": [
    "number1 = 10\n",
    "number2 = 15"
   ]
  },
  {
   "cell_type": "code",
   "execution_count": 10,
   "id": "89123926",
   "metadata": {},
   "outputs": [
    {
     "name": "stdout",
     "output_type": "stream",
     "text": [
      "25\n",
      "15\n",
      "150\n",
      "15.0\n"
     ]
    }
   ],
   "source": [
    "# number2 = number2 + number1\n",
    "number2+=number1\n",
    "print(number2)\n",
    "# number2 = number2 - number1\n",
    "number2-=number1\n",
    "print(number2)\n",
    "# number2 = number2 * number1\n",
    "number2*=number1\n",
    "print(number2)\n",
    "# number2 = number2 / number1\n",
    "number2/=number1\n",
    "print(number2)"
   ]
  },
  {
   "cell_type": "markdown",
   "id": "3a4e7d02",
   "metadata": {},
   "source": [
    "# Membership Operators"
   ]
  },
  {
   "cell_type": "raw",
   "id": "782d7edf",
   "metadata": {},
   "source": [
    "Membership operators are used to verifying whether a particular element is a part of a sequence or not. Now a sequence can be a list, string, sets, dictionary, and tuples. The two membership operators are in and not in."
   ]
  },
  {
   "cell_type": "code",
   "execution_count": 3,
   "id": "f5c4ffe3",
   "metadata": {},
   "outputs": [
    {
     "name": "stdout",
     "output_type": "stream",
     "text": [
      "False\n",
      "True\n"
     ]
    }
   ],
   "source": [
    "letter = '15'\n",
    "name = \"12345\"\n",
    "print(letter in name)\n",
    "check = '123'\n",
    "b= '12345'\n",
    "print(letter not in check)"
   ]
  },
  {
   "cell_type": "markdown",
   "id": "16613c15",
   "metadata": {},
   "source": [
    "# Data type (List)"
   ]
  },
  {
   "cell_type": "code",
   "execution_count": 4,
   "id": "e6bad601",
   "metadata": {},
   "outputs": [
    {
     "name": "stdout",
     "output_type": "stream",
     "text": [
      "<class 'list'>\n",
      "Declaring Empty List []\n"
     ]
    }
   ],
   "source": [
    "# Store collection of Data (multiple datatypes)\n",
    "# square brackets[]\n",
    "fruits = []\n",
    "print(type(fruits))\n",
    "print(\"Declaring Empty List\",fruits)"
   ]
  },
  {
   "cell_type": "code",
   "execution_count": 5,
   "id": "38edc34b",
   "metadata": {},
   "outputs": [
    {
     "name": "stdout",
     "output_type": "stream",
     "text": [
      "['mango', 'banana', 'grapes', 'water melon']\n"
     ]
    }
   ],
   "source": [
    "fruits = ['mango','banana','grapes','water melon']\n",
    "print(fruits)"
   ]
  },
  {
   "cell_type": "code",
   "execution_count": 6,
   "id": "489ca80b",
   "metadata": {},
   "outputs": [
    {
     "name": "stdout",
     "output_type": "stream",
     "text": [
      "4\n"
     ]
    }
   ],
   "source": [
    "print(len(fruits))"
   ]
  },
  {
   "cell_type": "code",
   "execution_count": 7,
   "id": "6f92ed5c",
   "metadata": {},
   "outputs": [
    {
     "name": "stdout",
     "output_type": "stream",
     "text": [
      "mango\n",
      "grapes\n",
      "water melon\n",
      "['mango', 'banana', 'grapes', 'water melon']\n"
     ]
    },
    {
     "ename": "IndexError",
     "evalue": "list index out of range",
     "output_type": "error",
     "traceback": [
      "\u001b[1;31m---------------------------------------------------------------------------\u001b[0m",
      "\u001b[1;31mIndexError\u001b[0m                                Traceback (most recent call last)",
      "\u001b[1;32m<ipython-input-7-45b352316049>\u001b[0m in \u001b[0;36m<module>\u001b[1;34m\u001b[0m\n\u001b[0;32m      4\u001b[0m \u001b[0mprint\u001b[0m\u001b[1;33m(\u001b[0m\u001b[0mfruits\u001b[0m\u001b[1;33m[\u001b[0m\u001b[1;36m3\u001b[0m\u001b[1;33m]\u001b[0m\u001b[1;33m)\u001b[0m\u001b[1;33m\u001b[0m\u001b[1;33m\u001b[0m\u001b[0m\n\u001b[0;32m      5\u001b[0m \u001b[0mprint\u001b[0m\u001b[1;33m(\u001b[0m\u001b[0mfruits\u001b[0m\u001b[1;33m)\u001b[0m\u001b[1;33m\u001b[0m\u001b[1;33m\u001b[0m\u001b[0m\n\u001b[1;32m----> 6\u001b[1;33m \u001b[0mprint\u001b[0m\u001b[1;33m(\u001b[0m\u001b[0mfruits\u001b[0m\u001b[1;33m[\u001b[0m\u001b[1;36m4\u001b[0m\u001b[1;33m]\u001b[0m\u001b[1;33m)\u001b[0m\u001b[1;33m\u001b[0m\u001b[1;33m\u001b[0m\u001b[0m\n\u001b[0m",
      "\u001b[1;31mIndexError\u001b[0m: list index out of range"
     ]
    }
   ],
   "source": [
    "# indexing always start from  positve indexing (0,1,2,...) negitive indexing (-1,-2,-,3) \n",
    "print(fruits[0])\n",
    "print(fruits[2])\n",
    "print(fruits[3])\n",
    "print(fruits)\n",
    "print(fruits[4])"
   ]
  },
  {
   "cell_type": "code",
   "execution_count": 8,
   "id": "831cd862",
   "metadata": {},
   "outputs": [
    {
     "name": "stdout",
     "output_type": "stream",
     "text": [
      "['mango', 'banana', 'grapes', 'water melon']\n",
      "['mango']\n",
      "['mango', 'banana']\n",
      "['banana']\n",
      "['mango', 'banana', 'grapes']\n",
      "['grapes', 'water melon']\n",
      "['banana', 'grapes', 'water melon']\n"
     ]
    }
   ],
   "source": [
    "# Slicing [inclusive:exclusive]\n",
    "print(fruits[:])\n",
    "print(fruits[0:1])\n",
    "print(fruits[0:2])\n",
    "print(fruits[1:2])\n",
    "print(fruits[0:3])\n",
    "print(fruits[2:4])\n",
    "print(fruits[1:4])"
   ]
  },
  {
   "cell_type": "code",
   "execution_count": 9,
   "id": "cbab0e4f",
   "metadata": {},
   "outputs": [
    {
     "name": "stdout",
     "output_type": "stream",
     "text": [
      "['mango', 'banana', 'grapes', 'water melon']\n",
      "water melon\n",
      "grapes\n",
      "['banana', 'grapes', 'water melon']\n",
      "['banana', 'grapes']\n",
      "['mango', 'banana', 'grapes']\n"
     ]
    }
   ],
   "source": [
    "# Negitive Indexing (-1,2,-3,-4,....)\n",
    "print(fruits)\n",
    "print(fruits[-1])\n",
    "print(fruits[-2])\n",
    "print(fruits[-3:])\n",
    "print(fruits[-3:-1])\n",
    "print(fruits[-4:-1])"
   ]
  },
  {
   "cell_type": "code",
   "execution_count": 10,
   "id": "8686f434",
   "metadata": {},
   "outputs": [
    {
     "name": "stdout",
     "output_type": "stream",
     "text": [
      "['mango', 'banana', 'grapes', 'water melon']\n",
      "['mango', 'banana', 'grapes', 'water melon']\n",
      "['mango', 'grapes']\n",
      "['mango', 'water melon']\n",
      "['banana', 'water melon']\n"
     ]
    }
   ],
   "source": [
    "# Slicing [inclusive:exclusive:step]\n",
    "print(fruits)\n",
    "print(fruits[::1])\n",
    "print(fruits[::2])\n",
    "print(fruits[::3])\n",
    "print(fruits[1::2])"
   ]
  },
  {
   "cell_type": "code",
   "execution_count": 11,
   "id": "a027a8dd",
   "metadata": {},
   "outputs": [
    {
     "name": "stdout",
     "output_type": "stream",
     "text": [
      "['mango', 'banana', 'grapes', 'water melon']\n"
     ]
    }
   ],
   "source": [
    "print(fruits)"
   ]
  },
  {
   "cell_type": "code",
   "execution_count": 20,
   "id": "b9183356",
   "metadata": {},
   "outputs": [
    {
     "name": "stdout",
     "output_type": "stream",
     "text": [
      "['apple', 'Guava', 'pine apple']\n",
      "['pine apple', 'Guava', 'apple']\n"
     ]
    }
   ],
   "source": [
    "fruit = [\"apple\",\"Guava\",\"pine apple\"]\n",
    "print(fruit)\n",
    "fruit.reverse()\n",
    "print(fruit)"
   ]
  },
  {
   "cell_type": "code",
   "execution_count": 21,
   "id": "6720ca0c",
   "metadata": {},
   "outputs": [
    {
     "data": {
      "text/plain": [
       "['mango', 'banana', 'grapes', 'water melon']"
      ]
     },
     "execution_count": 21,
     "metadata": {},
     "output_type": "execute_result"
    }
   ],
   "source": [
    "fruits"
   ]
  },
  {
   "cell_type": "code",
   "execution_count": 22,
   "id": "b8ee01e3",
   "metadata": {},
   "outputs": [],
   "source": [
    "fruits.append(fruit)"
   ]
  },
  {
   "cell_type": "code",
   "execution_count": 23,
   "id": "0593d247",
   "metadata": {},
   "outputs": [
    {
     "data": {
      "text/plain": [
       "['mango', 'banana', 'grapes', 'water melon', ['pine apple', 'Guava', 'apple']]"
      ]
     },
     "execution_count": 23,
     "metadata": {},
     "output_type": "execute_result"
    }
   ],
   "source": [
    "fruits"
   ]
  },
  {
   "cell_type": "code",
   "execution_count": 26,
   "id": "40058210",
   "metadata": {},
   "outputs": [
    {
     "data": {
      "text/plain": [
       "['pine apple', 'Guava', 'apple']"
      ]
     },
     "execution_count": 26,
     "metadata": {},
     "output_type": "execute_result"
    }
   ],
   "source": [
    "fruits[4]"
   ]
  },
  {
   "cell_type": "code",
   "execution_count": 36,
   "id": "a2b81f9b",
   "metadata": {},
   "outputs": [
    {
     "data": {
      "text/plain": [
       "['pine apple', 'apple']"
      ]
     },
     "execution_count": 36,
     "metadata": {},
     "output_type": "execute_result"
    }
   ],
   "source": [
    "fruits[4][0:3:2]"
   ]
  },
  {
   "cell_type": "code",
   "execution_count": 40,
   "id": "82be165a",
   "metadata": {},
   "outputs": [],
   "source": [
    "fruits.append(\"Blue Berry\")\n",
    "fruits.append(\"Strawbery\")"
   ]
  },
  {
   "cell_type": "code",
   "execution_count": 41,
   "id": "c5b39291",
   "metadata": {},
   "outputs": [
    {
     "name": "stdout",
     "output_type": "stream",
     "text": [
      "['mango', 'banana', 'grapes', 'water melon', ['pine apple', 'Guava', 'apple'], 'Blue Berry', 'Blue Berry', 'Strawbery']\n"
     ]
    }
   ],
   "source": [
    "print(fruits)"
   ]
  },
  {
   "cell_type": "code",
   "execution_count": 45,
   "id": "24d38247",
   "metadata": {},
   "outputs": [
    {
     "data": {
      "text/plain": [
       "'Blue Berry'"
      ]
     },
     "execution_count": 45,
     "metadata": {},
     "output_type": "execute_result"
    }
   ],
   "source": [
    "fruits.pop()"
   ]
  },
  {
   "cell_type": "code",
   "execution_count": 46,
   "id": "e299e381",
   "metadata": {},
   "outputs": [
    {
     "name": "stdout",
     "output_type": "stream",
     "text": [
      "['mango', 'banana', 'grapes', 'water melon', ['pine apple', 'Guava', 'apple'], 'Blue Berry']\n"
     ]
    }
   ],
   "source": [
    "print(fruits)"
   ]
  }
 ],
 "metadata": {
  "kernelspec": {
   "display_name": "Python 3",
   "language": "python",
   "name": "python3"
  },
  "language_info": {
   "codemirror_mode": {
    "name": "ipython",
    "version": 3
   },
   "file_extension": ".py",
   "mimetype": "text/x-python",
   "name": "python",
   "nbconvert_exporter": "python",
   "pygments_lexer": "ipython3",
   "version": "3.12.4"
  }
 },
 "nbformat": 4,
 "nbformat_minor": 5
}
