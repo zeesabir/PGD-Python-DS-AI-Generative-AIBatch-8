{
 "cells": [
  {
   "cell_type": "markdown",
   "id": "112cb5fc",
   "metadata": {},
   "source": [
    "# Arithmatic Operator (==,+,-,*)"
   ]
  },
  {
   "cell_type": "code",
   "execution_count": 10,
   "id": "0b08dff1",
   "metadata": {},
   "outputs": [
    {
     "name": "stdout",
     "output_type": "stream",
     "text": [
      "Enter your first Number:30\n",
      "Enter your Second Number:10\n",
      "Sum of  30 and 10 is: 40\n",
      "Difference of  30 and 10 is: -20\n",
      "Product of  30 and 10 is: 300\n",
      "Division of  30 and 10 is: 3.0\n",
      "Floor Division of  30 and 10 is: 3\n"
     ]
    }
   ],
   "source": [
    "# Addition of 2 Numbers\n",
    "number1 = int(input(\"Enter your first Number:\"))\n",
    "number2 = int(input(\"Enter your Second Number:\"))\n",
    "add = number1 + number2\n",
    "difference = number2 - number1\n",
    "product = number1 * number2\n",
    "division = number1 / number2\n",
    "floor_division = number1 // number2 \n",
    "#print(\"Number 1 is :\",number1)\n",
    "print(\"Sum of \" ,number1,\"and\", number2, \"is:\",add)\n",
    "print(\"Difference of \" ,number1,\"and\", number2, \"is:\",difference)\n",
    "print(\"Product of \" ,number1,\"and\", number2, \"is:\",product)\n",
    "print(\"Division of \" ,number1,\"and\", number2, \"is:\",division)\n",
    "print(\"Floor Division of \" ,number1,\"and\", number2, \"is:\",floor_division)"
   ]
  },
  {
   "cell_type": "raw",
   "id": "a7f75051",
   "metadata": {},
   "source": [
    "Activity \n",
    "force = ? , mass = 40,  acc = 20 \n",
    "force = 10 , mass = ?,  acc = 20 \n",
    "force = 40 , mass = 40,  acc = ?\n",
    "\n",
    "force = mass * acceleration"
   ]
  },
  {
   "cell_type": "markdown",
   "id": "2fa7dfa1",
   "metadata": {},
   "source": [
    "# Comparision operators ( > , < , ==, >= , <= ,!=)"
   ]
  },
  {
   "cell_type": "code",
   "execution_count": 12,
   "id": "d4144a68",
   "metadata": {},
   "outputs": [
    {
     "data": {
      "text/plain": [
       "False"
      ]
     },
     "execution_count": 12,
     "metadata": {},
     "output_type": "execute_result"
    }
   ],
   "source": [
    "5>9"
   ]
  },
  {
   "cell_type": "code",
   "execution_count": 13,
   "id": "e57cce64",
   "metadata": {},
   "outputs": [
    {
     "data": {
      "text/plain": [
       "True"
      ]
     },
     "execution_count": 13,
     "metadata": {},
     "output_type": "execute_result"
    }
   ],
   "source": [
    "8>2"
   ]
  },
  {
   "cell_type": "code",
   "execution_count": 14,
   "id": "cb96b33d",
   "metadata": {},
   "outputs": [
    {
     "data": {
      "text/plain": [
       "True"
      ]
     },
     "execution_count": 14,
     "metadata": {},
     "output_type": "execute_result"
    }
   ],
   "source": [
    "4==4"
   ]
  },
  {
   "cell_type": "code",
   "execution_count": 15,
   "id": "d9d9f4ba",
   "metadata": {},
   "outputs": [
    {
     "data": {
      "text/plain": [
       "True"
      ]
     },
     "execution_count": 15,
     "metadata": {},
     "output_type": "execute_result"
    }
   ],
   "source": [
    "6!=4"
   ]
  },
  {
   "cell_type": "code",
   "execution_count": 16,
   "id": "0c1fd07d",
   "metadata": {},
   "outputs": [
    {
     "name": "stdout",
     "output_type": "stream",
     "text": [
      "a and b is False\n",
      "a or b is True\n",
      "not a is False\n"
     ]
    }
   ],
   "source": [
    "# Assigning values to variable\n",
    "a = True\n",
    "b = False\n",
    "# Logical and\n",
    "print('a and b is',a and b)\n",
    "# Logical or\n",
    "print('a or b is',a or b)\n",
    "# Logical not\n",
    "print('not a is',not a)"
   ]
  },
  {
   "cell_type": "raw",
   "id": "09a42178",
   "metadata": {},
   "source": [
    "Important notes\n",
    "Logical operators are also called as Boolean Operators.\n",
    "\n",
    "1-If the operands are not boolean then it would be automatically converted to a boolean for the evaluation.\n",
    "\n",
    "2-The logical operators can be applied to any type of value. For example, they can be applied to strings as shown below. In this case, the and operator returns the first false value if there are null or false values otherwise, they return the last value. The or returns the first true value if there are any otherwise returns the last value."
   ]
  },
  {
   "cell_type": "code",
   "execution_count": 15,
   "id": "0fba5f63",
   "metadata": {},
   "outputs": [
    {
     "data": {
      "text/plain": [
       "''"
      ]
     },
     "execution_count": 15,
     "metadata": {},
     "output_type": "execute_result"
    }
   ],
   "source": [
    "a = \"\"\n",
    "b = \"python\"\n",
    "a and b"
   ]
  },
  {
   "cell_type": "code",
   "execution_count": 16,
   "id": "dc0354bb",
   "metadata": {},
   "outputs": [
    {
     "data": {
      "text/plain": [
       "'python'"
      ]
     },
     "execution_count": 16,
     "metadata": {},
     "output_type": "execute_result"
    }
   ],
   "source": [
    "a = \"\"\n",
    "b = \"python\"\n",
    "a or b"
   ]
  }
 ],
 "metadata": {
  "kernelspec": {
   "display_name": "Python 3",
   "language": "python",
   "name": "python3"
  },
  "language_info": {
   "codemirror_mode": {
    "name": "ipython",
    "version": 3
   },
   "file_extension": ".py",
   "mimetype": "text/x-python",
   "name": "python",
   "nbconvert_exporter": "python",
   "pygments_lexer": "ipython3",
   "version": "3.8.8"
  }
 },
 "nbformat": 4,
 "nbformat_minor": 5
}
