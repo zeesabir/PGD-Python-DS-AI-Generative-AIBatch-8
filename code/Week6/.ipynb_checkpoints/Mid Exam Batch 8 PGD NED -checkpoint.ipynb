{
 "cells": [
  {
   "cell_type": "code",
   "execution_count": null,
   "id": "95923a01",
   "metadata": {},
   "outputs": [],
   "source": [
    "Name:\n",
    "profession:\n",
    "organization:\n",
    "contact No:\n",
    "Email:"
   ]
  },
  {
   "cell_type": "raw",
   "id": "695ff475",
   "metadata": {},
   "source": [
    "Attempt Any 9 Question \n",
    "Question No 5 and 7 is Manditory"
   ]
  },
  {
   "cell_type": "raw",
   "id": "8a79db03",
   "metadata": {},
   "source": [
    "1-operators like / and * take precedence over other operators like + and - as per mathematical conventions. You can use parentheses, i.e. ( and ), to specify the order in which operations are performed\n",
    "\n",
    "2 ? 5 ? 17 ? 3 ? 4 ? 3\n",
    "Answer : 1.53125"
   ]
  },
  {
   "cell_type": "raw",
   "id": "1a847712",
   "metadata": {},
   "source": [
    "2-The diameter of a circle is 15 meters.\n",
    "i-Calculate the area of a circle and assign the value to a variable\n",
    "name of area_of_circle\n",
    "ii- Calculate the circumference of a circle and assign the value to a\n",
    "variable name of circum_of_circle\n",
    "iii- Take diameter as user input and calculate the area."
   ]
  },
  {
   "cell_type": "raw",
   "id": "395ed1ff",
   "metadata": {},
   "source": [
    "3- Write a Python script that checks if a number entered in a variable num by a user is positive, negative, or zero,or check if a user enter any invalid character and prints an appropriate message for each case."
   ]
  },
  {
   "cell_type": "raw",
   "id": "ad6d9b30",
   "metadata": {},
   "source": [
    "4-Write a Python script that asks the user for their name and age, stores them in variables, and then prints a message saying \"Hello [name], you are [age] years old.\""
   ]
  },
  {
   "cell_type": "raw",
   "id": "f607d68a",
   "metadata": {},
   "source": [
    "5-Write a program to check if a string enter by a user is a palindrome or not."
   ]
  },
  {
   "cell_type": "raw",
   "id": "09621a8e",
   "metadata": {},
   "source": [
    "6-Define Mutable and immutable data types with example."
   ]
  },
  {
   "cell_type": "raw",
   "id": "43c20f4e",
   "metadata": {},
   "source": [
    "7- Create a Menu driven Calculator program which can perform\n",
    "i- Addition\n",
    "ii-Subtraction\n",
    "iii-Multiplication\n",
    "iv-Fictorial\n",
    "v-Division\n",
    "vi-power\n",
    "vii-Sqrt"
   ]
  },
  {
   "cell_type": "raw",
   "id": "e6b3ff3a",
   "metadata": {},
   "source": [
    "8-A travel company wants to fly a plane to the Bahamas. Flying the plane\n",
    "costs 5000 dollars. So far, 29 people have signed up for the trip. If\n",
    "the company charges 200 dollars per ticket, what is the profit made by\n",
    "the company? Create variables for each numeric quantity and use\n",
    "appropriate arithmetic operations."
   ]
  },
  {
   "cell_type": "raw",
   "id": "d61cca0b",
   "metadata": {},
   "source": [
    "9-Given the list numbers = [10, 20, 30, 40, 50], write a Python code snippet to:\n",
    "i- Append the number 60 to the list.\n",
    "ii-Remove the number 20 from the list.\n",
    "iii-Insert 80 at index 2.\n",
    "iv-Print the sum of all the elements in the list."
   ]
  },
  {
   "cell_type": "raw",
   "id": "08497354",
   "metadata": {},
   "source": [
    "10-\n",
    "(a) Consider the tuple coordinates = (12.5, 45.8, 33.1).\n",
    "i- Write a Python code snippet to unpack the values of the tuple into three variables: `x`,`y`, and `z`.\n",
    "ii-Explain why tuples are generally preferred over lists for storing fixed sets of data.\n",
    "(b)Given the dictionary `student_scores = {Ali: 85, saima: 90, Kabeer: 78}`:\n",
    "i- Write a Python code snippet to add a new student `Ahmed` with a score of 92.\n",
    "ii-Update Kabeer's score to 82."
   ]
  },
  {
   "cell_type": "raw",
   "id": "a0cd2640",
   "metadata": {},
   "source": [
    "11- write a program to check whether the Number entered by a user is even or odd."
   ]
  }
 ],
 "metadata": {
  "kernelspec": {
   "display_name": "Python 3",
   "language": "python",
   "name": "python3"
  },
  "language_info": {
   "codemirror_mode": {
    "name": "ipython",
    "version": 3
   },
   "file_extension": ".py",
   "mimetype": "text/x-python",
   "name": "python",
   "nbconvert_exporter": "python",
   "pygments_lexer": "ipython3",
   "version": "3.8.8"
  }
 },
 "nbformat": 4,
 "nbformat_minor": 5
}
